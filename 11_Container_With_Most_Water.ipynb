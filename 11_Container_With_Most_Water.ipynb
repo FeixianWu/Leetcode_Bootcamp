{
 "cells": [
  {
   "cell_type": "code",
   "execution_count": 16,
   "metadata": {},
   "outputs": [
    {
     "name": "stdout",
     "output_type": "stream",
     "text": [
      "1\n"
     ]
    }
   ],
   "source": [
    "# LeetCode 11 (Medium)\n",
    "# Date: 2023/10/7\n",
    "# \n",
    "# Time used:\n",
    "\n",
    "def maxArea(height):\n",
    "        \"\"\"\n",
    "        :type height: List[int]\n",
    "        :rtype: int\n",
    "        \"\"\"\n",
    "        area = 0\n",
    "        left, right = 0, len(height) - 1\n",
    "\n",
    "        while left < right:\n",
    "            if height[left] > height[right]:\n",
    "                area = max(area, height[right] * (right - left))\n",
    "                right -= 1\n",
    "            else:\n",
    "                area = max(area, height[left] * (right - left))\n",
    "                left += 1\n",
    "        return area\n",
    "\n",
    "if __name__ == '__main__':\n",
    "    height1 = [1,8,6,2,5,4,8,3,7]\n",
    "    height2 = [1,1]\n",
    "    print(maxArea(height2))"
   ]
  },
  {
   "cell_type": "code",
   "execution_count": null,
   "metadata": {},
   "outputs": [],
   "source": []
  }
 ],
 "metadata": {
  "kernelspec": {
   "display_name": "base",
   "language": "python",
   "name": "python3"
  },
  "language_info": {
   "codemirror_mode": {
    "name": "ipython",
    "version": 3
   },
   "file_extension": ".py",
   "mimetype": "text/x-python",
   "name": "python",
   "nbconvert_exporter": "python",
   "pygments_lexer": "ipython3",
   "version": "3.10.12"
  },
  "orig_nbformat": 4
 },
 "nbformat": 4,
 "nbformat_minor": 2
}
